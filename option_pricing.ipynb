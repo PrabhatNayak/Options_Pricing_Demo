

!pip install mibian

import mibian

stock_price = 37775
strike_price = 39000
intrest_rate = 10
days_to_expire = 6
volatility = 16.89


greeks = mibian.BS([stock_price, strike_price, intrest_rate, days_to_expire], volatility = volatility)


print('Delta', greeks.callDelta)
print('Gamma', greeks.gamma)
print('Vega', greeks.vega)
print('Theta', greeks.callTheta)
print('Rho', greeks.callRho)

print('Call price is : ',greeks.callPrice)

print('Delta', greeks.putDelta)
print('Gamma', greeks.gamma)
print('Vega', greeks.vega)
print('Theta', greeks.putTheta)
print('Rho', greeks.putRho)
