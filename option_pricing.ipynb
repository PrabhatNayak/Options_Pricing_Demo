
//To start with, first we need to install the library in jupyter notebook.
!pip install mibian

//Importing the library.
import mibian

//Setting some values to variables and which will be used in next steps.
stock_price = 37775
strike_price = 39000
intrest_rate = 10
days_to_expire = 6
volatility = 16.89

//The syntax of the function is — mibian.BS([Underlying Price, Strike Price, Interest Rate, Daystoexpiration], Call Price, Put Price, volatility).
greeks = mibian.BS([stock_price, strike_price, intrest_rate, days_to_expire], volatility = volatility)

//Calculating CALL PREMIUM - greeks
print('Delta', greeks.callDelta)
print('Gamma', greeks.gamma)
print('Vega', greeks.vega)
print('Theta', greeks.callTheta)
print('Rho', greeks.callRho)

//Calculating CALL PRICE - greeks
print('Call price is : ',greeks.callPrice)

//Calculating PUT PREMIUM - greeks
print('Delta', greeks.putDelta)
print('Gamma', greeks.gamma)
print('Vega', greeks.vega)
print('Theta', greeks.putTheta)
print('Rho', greeks.putRho)
